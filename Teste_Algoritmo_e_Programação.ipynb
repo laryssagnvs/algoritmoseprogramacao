{
  "cells": [
    {
      "cell_type": "markdown",
      "metadata": {
        "id": "view-in-github",
        "colab_type": "text"
      },
      "source": [
        "<a href=\"https://colab.research.google.com/github/laryssagnvs/algoritmoseprogramacao/blob/teste-algortimos/Teste_Algoritmo_e_Programa%C3%A7%C3%A3o.ipynb\" target=\"_parent\"><img src=\"https://colab.research.google.com/assets/colab-badge.svg\" alt=\"Open In Colab\"/></a>"
      ]
    },
    {
      "cell_type": "code",
      "source": [
        "!apt-get install -y xvfb && pip install pyvirtualdisplay && sudo apt-get install tk-dev\n",
        "\n",
        "import pyvirtualdisplay\n",
        "_display = pyvirtualdisplay.Display(visible=False, size=(1400, 900))\n",
        "_ = _display.start()\n",
        "\n",
        "import tkinter as tk\n",
        "import math\n",
        "\n",
        "class Calculator:\n",
        "    def __init__(self, master):\n",
        "        self.master = master\n",
        "        master.title(\"Calculadora\")\n",
        "\n",
        "        # Display\n",
        "        self.display = tk.Entry(master, width=25, borderwidth=5)\n",
        "        self.display.grid(row=0, column=0, columnspan=4, padx=10, pady=10)\n",
        "\n",
        "        # Botões\n",
        "        buttons = [\n",
        "            '7', '8', '9', '/',\n",
        "            '4', '5', '6', '*',\n",
        "            '1', '2', '3', '-',\n",
        "            '0', '.', '=', '+',\n",
        "            'C', '√', 'x²', '←',\n",
        "            'm→ft', 'ft→m'\n",
        "        ]\n",
        "\n",
        "        row = 1\n",
        "        col = 0\n",
        "        for button_text in buttons:\n",
        "            button = tk.Button(master, text=button_text, width=5, command=lambda text=button_text: self.click(text))\n",
        "            button.grid(row=row, column=col, padx=5, pady=5)\n",
        "            col += 1\n",
        "            if col > 3:\n",
        "                col = 0\n",
        "                row += 1\n",
        "\n",
        "    def click(self, text):\n",
        "        if text == '=':\n",
        "            try:\n",
        "                result = str(eval(self.display.get()))\n",
        "                self.display.delete(0, tk.END)\n",
        "                self.display.insert(0, result)\n",
        "            except:\n",
        "                self.display.delete(0, tk.END)\n",
        "                self.display.insert(0, \"Erro\")\n",
        "        elif text == 'C':\n",
        "            self.display.delete(0, tk.END)\n",
        "        elif text == '√':\n",
        "            try:\n",
        "                num = float(self.display.get())\n",
        "                result = math.sqrt(num)\n",
        "                self.display.delete(0, tk.END)\n",
        "                self.display.insert(0, result)\n",
        "            except:\n",
        "                self.display.delete(0, tk.END)\n",
        "                self.display.insert(0, \"Erro\")\n",
        "        elif text == 'x²':\n",
        "            try:\n",
        "                num = float(self.display.get())\n",
        "                result = num ** 2\n",
        "                self.display.delete(0, tk.END)\n",
        "                self.display.insert(0, result)\n",
        "            except:\n",
        "                self.display.delete(0, tk.END)\n",
        "                self.display.insert(0, \"Erro\")\n",
        "        elif text == '←':\n",
        "            self.display.delete(len(self.display.get()) - 1)\n",
        "        elif text == 'm→ft':\n",
        "            try:\n",
        "                num = float(self.display.get())\n",
        "                result = num * 3.28084\n",
        "                self.display.delete(0, tk.END)\n",
        "                self.display.insert(0, result)\n",
        "            except:\n",
        "                self.display.delete(0, tk.END)\n",
        "                self.display.insert(0, \"Erro\")\n",
        "        elif text == 'ft→m':\n",
        "            try:\n",
        "                num = float(self.display.get())\n",
        "                result = num / 3.28084\n",
        "                self.display.delete(0, tk.END)\n",
        "                self.display.insert(0, result)\n",
        "            except:\n",
        "                self.display.delete(0, tk.END)\n",
        "                self.display.insert(0, \"Erro\")\n",
        "        else:\n",
        "            self.display.insert(tk.END, text)\n",
        "\n",
        "root = tk.Tk()\n",
        "calculator = Calculator(root)\n",
        "root.mainloop()"
      ],
      "metadata": {
        "colab": {
          "base_uri": "https://localhost:8080/"
        },
        "id": "CPlDEAv-XtYB",
        "outputId": "2491a95a-38d4-48d7-ca47-ada48626c29c"
      },
      "execution_count": null,
      "outputs": [
        {
          "output_type": "stream",
          "name": "stdout",
          "text": [
            "Reading package lists... Done\n",
            "Building dependency tree... Done\n",
            "Reading state information... Done\n",
            "xvfb is already the newest version (2:21.1.4-2ubuntu1.7~22.04.12).\n",
            "0 upgraded, 0 newly installed, 0 to remove and 20 not upgraded.\n",
            "Requirement already satisfied: pyvirtualdisplay in /usr/local/lib/python3.11/dist-packages (3.0)\n",
            "Reading package lists... Done\n",
            "Building dependency tree... Done\n",
            "Reading state information... Done\n",
            "tk-dev is already the newest version (8.6.11+1build2).\n",
            "0 upgraded, 0 newly installed, 0 to remove and 20 not upgraded.\n"
          ]
        }
      ]
    }
  ],
  "metadata": {
    "colab": {
      "provenance": [],
      "include_colab_link": true
    },
    "kernelspec": {
      "display_name": "Python 3",
      "name": "python3"
    }
  },
  "nbformat": 4,
  "nbformat_minor": 0
}